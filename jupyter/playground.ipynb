{
 "cells": [
  {
   "cell_type": "code",
   "execution_count": 1,
   "metadata": {},
   "outputs": [],
   "source": [
    "vocab = \"../inputs/vocab.pkl\""
   ]
  },
  {
   "cell_type": "code",
   "execution_count": 2,
   "metadata": {},
   "outputs": [],
   "source": [
    "import pickle as pkl"
   ]
  },
  {
   "cell_type": "code",
   "execution_count": 6,
   "metadata": {},
   "outputs": [],
   "source": [
    "voc = pkl.load(open(vocab, 'rb'))"
   ]
  },
  {
   "cell_type": "code",
   "execution_count": 7,
   "metadata": {},
   "outputs": [
    {
     "data": {
      "text/plain": [
       "[('，', 2313637),\n",
       " ('的', 1194539),\n",
       " ('。', 692183),\n",
       " ('了', 512593),\n",
       " ('是', 334423),\n",
       " ('很', 290696),\n",
       " ('吃', 243783),\n",
       " ('也', 223016),\n",
       " ('\"', 210755),\n",
       " ('！', 199232),\n",
       " ('都', 178269),\n",
       " ('有', 162805),\n",
       " ('就', 159720),\n",
       " ('我', 152740),\n",
       " ('在', 126213),\n",
       " ('好', 124489),\n",
       " ('味道', 124409),\n",
       " ('还', 123960),\n",
       " ('不错', 120832),\n",
       " ('不', 120358)]"
      ]
     },
     "execution_count": 7,
     "metadata": {},
     "output_type": "execute_result"
    }
   ],
   "source": [
    "voc.most_common(20)"
   ]
  },
  {
   "cell_type": "code",
   "execution_count": 8,
   "metadata": {},
   "outputs": [],
   "source": [
    "def make_vocab(wc, vocab_size):\n",
    "    word2id, id2word = {}, {}\n",
    "    word2id['<pad>'] = PAD\n",
    "    word2id['<unk>'] = UNK\n",
    "    word2id['<start>'] = START\n",
    "    word2id['<end>'] = END\n",
    "    for i, (w, _) in enumerate(wc.most_common(vocab_size), 4):\n",
    "        word2id[w] = i\n",
    "    return word2id"
   ]
  },
  {
   "cell_type": "code",
   "execution_count": 10,
   "metadata": {},
   "outputs": [],
   "source": [
    "PAD = 0\n",
    "UNK = 1\n",
    "START = 2\n",
    "END = 3\n",
    "w2i = make_vocab(voc, 10000)"
   ]
  },
  {
   "cell_type": "code",
   "execution_count": 12,
   "metadata": {},
   "outputs": [
    {
     "data": {
      "text/plain": [
       "225999"
      ]
     },
     "execution_count": 12,
     "metadata": {},
     "output_type": "execute_result"
    }
   ],
   "source": [
    "len(voc)"
   ]
  },
  {
   "cell_type": "code",
   "execution_count": null,
   "metadata": {},
   "outputs": [],
   "source": []
  }
 ],
 "metadata": {
  "kernelspec": {
   "display_name": "Python 3",
   "language": "python",
   "name": "python3"
  },
  "language_info": {
   "codemirror_mode": {
    "name": "ipython",
    "version": 3
   },
   "file_extension": ".py",
   "mimetype": "text/x-python",
   "name": "python",
   "nbconvert_exporter": "python",
   "pygments_lexer": "ipython3",
   "version": "3.6.5"
  }
 },
 "nbformat": 4,
 "nbformat_minor": 2
}
