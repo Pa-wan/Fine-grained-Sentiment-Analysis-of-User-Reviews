{
 "cells": [
  {
   "cell_type": "code",
   "execution_count": 2,
   "metadata": {},
   "outputs": [
    {
     "name": "stderr",
     "output_type": "stream",
     "text": [
      "Using TensorFlow backend.\n"
     ]
    }
   ],
   "source": [
    "import time\n",
    "start_time = time.time()\n",
    "from sklearn.model_selection import train_test_split\n",
    "import sys, os, re, csv, codecs, numpy as np, pandas as pd\n",
    "np.random.seed(32)\n",
    "os.environ[\"OMP_NUM_THREADS\"] = \"12\"\n",
    "from tensorflow.keras.preprocessing.text import Tokenizer\n",
    "from tensorflow.keras.preprocessing.sequence import pad_sequences\n",
    "from tensorflow.keras.layers import Dense, Input, LSTM, Embedding, Dropout, Activation, Conv1D, GRU\n",
    "from tensorflow.keras.layers import Bidirectional, GlobalMaxPool1D, MaxPooling1D, Add, Flatten\n",
    "from tensorflow.keras.layers import GlobalAveragePooling1D, GlobalMaxPooling1D, concatenate, SpatialDropout1D\n",
    "from tensorflow.keras.models import Model, load_model\n",
    "from tensorflow.keras import initializers, regularizers, constraints, optimizers, layers, callbacks\n",
    "from tensorflow.keras import backend as K\n",
    "from keras.engine import InputSpec, Layer\n",
    "\n",
    "import logging\n",
    "from sklearn.metrics import roc_auc_score\n",
    "from tensorflow.keras.callbacks import Callback\n",
    "\n",
    "class RocAucEvaluation(Callback):\n",
    "    def __init__(self, validation_data=(), interval=1):\n",
    "        super(Callback, self).__init__()\n",
    "\n",
    "        self.interval = interval\n",
    "        self.X_val, self.y_val = validation_data\n",
    "\n",
    "    def on_epoch_end(self, epoch, logs={}):\n",
    "        if epoch % self.interval == 0:\n",
    "            y_pred = self.model.predict(self.X_val, verbose=0)\n",
    "            score = roc_auc_score(self.y_val, y_pred)\n",
    "            print(\"\\n ROC-AUC - epoch: {:d} - score: {:.6f}\".format(epoch+1, score))\n",
    "            "
   ]
  },
  {
   "cell_type": "code",
   "execution_count": 3,
   "metadata": {},
   "outputs": [],
   "source": [
    "EMBEDDING_FILE = '/home/xq/data/embed/wiki.zh.vec'\n",
    "train = pd.read_csv(\"../inputs/train.csv\")\n",
    "test = pd.read_csv(\"../inputs/testa.csv\")\n",
    "val = pd.read_csv(\"../inputs/vali.csv\")\n",
    "X_train = train[\"content\"].fillna(\"无\").str.lower()\n",
    "x_val = val[\"content\"].fillna(\"无\").str.lower()\n",
    "X_test = test[\"content\"].fillna(\"无\").str.lower()"
   ]
  },
  {
   "cell_type": "code",
   "execution_count": 4,
   "metadata": {},
   "outputs": [],
   "source": [
    "columns = train.columns.tolist()[2:]"
   ]
  },
  {
   "cell_type": "code",
   "execution_count": 6,
   "metadata": {},
   "outputs": [],
   "source": [
    "from keras.utils.np_utils import to_categorical\n",
    "from typing import List\n",
    "def get_y(df:pd.DataFrame, cols:List[str]=columns) -> List[np.array]:\n",
    "    y_list = []\n",
    "    for col in cols:\n",
    "        y = df[col].values + 2\n",
    "        y_ = to_categorical(y, num_classes=4)\n",
    "        y_list.append(y_)\n",
    "    return y_list"
   ]
  },
  {
   "cell_type": "code",
   "execution_count": 7,
   "metadata": {},
   "outputs": [],
   "source": [
    "y_train = get_y(train)"
   ]
  },
  {
   "cell_type": "code",
   "execution_count": 8,
   "metadata": {},
   "outputs": [],
   "source": [
    "y_val = get_y(val)"
   ]
  },
  {
   "cell_type": "code",
   "execution_count": 9,
   "metadata": {},
   "outputs": [],
   "source": [
    "max_features=100000\n",
    "maxlen=200\n",
    "embed_size=300"
   ]
  },
  {
   "cell_type": "code",
   "execution_count": 10,
   "metadata": {},
   "outputs": [],
   "source": [
    "tok=Tokenizer(num_words=max_features)\n",
    "tok.fit_on_texts(list(X_train)+list(X_test))\n",
    "X_train=tok.texts_to_sequences(X_train)\n",
    "X_test=tok.texts_to_sequences(X_test)\n",
    "x_train=pad_sequences(X_train,maxlen=maxlen)\n",
    "x_test=pad_sequences(X_test,maxlen=maxlen)"
   ]
  },
  {
   "cell_type": "code",
   "execution_count": 11,
   "metadata": {},
   "outputs": [],
   "source": [
    "embeddings_index = {}\n",
    "with open(EMBEDDING_FILE,encoding='utf8') as f:\n",
    "    for line in f:\n",
    "        values = line.rstrip().rsplit(' ')\n",
    "        word = values[0]\n",
    "        coefs = np.asarray(values[1:], dtype='float32')\n",
    "        embeddings_index[word] = coefs\n",
    "word_index = tok.word_index\n",
    "#prepare embedding matrix\n",
    "num_words = min(max_features, len(word_index) + 1)\n",
    "embedding_matrix = np.zeros((num_words, embed_size))\n",
    "for word, i in word_index.items():\n",
    "    if i >= max_features:\n",
    "        continue\n",
    "    embedding_vector = embeddings_index.get(word)\n",
    "    if embedding_vector is not None:\n",
    "        # words not found in embedding index will be all-zeros.\n",
    "        embedding_matrix[i] = embedding_vector        "
   ]
  },
  {
   "cell_type": "code",
   "execution_count": 12,
   "metadata": {},
   "outputs": [],
   "source": [
    "from  tensorflow.keras.optimizers import Adam, RMSprop\n",
    "from  tensorflow.keras.callbacks import EarlyStopping, ModelCheckpoint, LearningRateScheduler\n",
    "from  tensorflow.keras.layers import GRU, BatchNormalization, Conv1D, MaxPooling1D\n",
    "\n",
    "file_path = \"../ckpt/best_model_bigru_cnn.hdf5\"\n",
    "check_point = ModelCheckpoint(file_path, monitor = \"val_loss\", verbose = 1,\n",
    "                              save_best_only = True, mode = \"min\")\n",
    "early_stop = EarlyStopping(monitor = \"val_loss\", mode = \"min\", patience = 5)\n"
   ]
  },
  {
   "cell_type": "code",
   "execution_count": 13,
   "metadata": {},
   "outputs": [],
   "source": [
    "def build_model(lr = 0.0, lr_d = 0.0, units = 0, dr = 0.0, classes=20):\n",
    "    inp = Input(shape = (maxlen,))\n",
    "    x = Embedding(max_features, embed_size, weights = [embedding_matrix], trainable = False)(inp)\n",
    "    x1 = SpatialDropout1D(dr)(x)\n",
    "\n",
    "    x = Bidirectional(GRU(units, return_sequences = True))(x1)\n",
    "    x = Conv1D(128, kernel_size = 2, padding = \"valid\", kernel_initializer = \"he_uniform\")(x)\n",
    "    \n",
    "    y = Bidirectional(LSTM(units, return_sequences = True))(x1)\n",
    "    y = Conv1D(128, kernel_size = 2, padding = \"valid\", kernel_initializer = \"he_uniform\")(y)\n",
    "    \n",
    "    avg_pool1 = GlobalAveragePooling1D()(x)\n",
    "    max_pool1 = GlobalMaxPooling1D()(x)\n",
    "    \n",
    "    avg_pool2 = GlobalAveragePooling1D()(y)\n",
    "    max_pool2 = GlobalMaxPooling1D()(y)\n",
    "    \n",
    "    \n",
    "    x = concatenate([avg_pool1, max_pool1, avg_pool2, max_pool2])\n",
    "    ys = []\n",
    "    for i in range(classes):\n",
    "        y = Dense(4, activation = \"softmax\")(x)\n",
    "        ys.append(y)\n",
    "    model = Model(inputs = inp, outputs = ys)\n",
    "    model.compile(loss = \"categorical_crossentropy\", optimizer = Adam(lr = lr, decay = lr_d), metrics = [\"accuracy\"])\n",
    "    history = model.fit(x_train, y_train, batch_size = 128, epochs = 30,validation_split=0.05 , \n",
    "                        verbose = 1, callbacks = [check_point, early_stop])\n",
    "    model = load_model(file_path)\n",
    "    return model\n",
    "    "
   ]
  },
  {
   "cell_type": "code",
   "execution_count": null,
   "metadata": {
    "scrolled": false
   },
   "outputs": [
    {
     "name": "stdout",
     "output_type": "stream",
     "text": [
      "Train on 99750 samples, validate on 5250 samples\n",
      "Epoch 1/30\n",
      "99750/99750 [==============================] - 757s 8ms/step - loss: 15.4507 - dense_loss: 0.5238 - dense_1_loss: 0.5349 - dense_2_loss: 0.6991 - dense_3_loss: 0.4909 - dense_4_loss: 1.1422 - dense_5_loss: 0.2914 - dense_6_loss: 0.5837 - dense_7_loss: 1.1509 - dense_8_loss: 0.7089 - dense_9_loss: 0.9743 - dense_10_loss: 0.8531 - dense_11_loss: 0.7124 - dense_12_loss: 0.9208 - dense_13_loss: 0.7893 - dense_14_loss: 1.1190 - dense_15_loss: 0.9400 - dense_16_loss: 0.7853 - dense_17_loss: 0.5856 - dense_18_loss: 0.8417 - dense_19_loss: 0.8033 - dense_acc: 0.8179 - dense_1_acc: 0.7994 - dense_2_acc: 0.7658 - dense_3_acc: 0.8823 - dense_4_acc: 0.4733 - dense_5_acc: 0.9347 - dense_6_acc: 0.8442 - dense_7_acc: 0.5291 - dense_8_acc: 0.7636 - dense_9_acc: 0.6089 - dense_10_acc: 0.6428 - dense_11_acc: 0.7432 - dense_12_acc: 0.6620 - dense_13_acc: 0.7011 - dense_14_acc: 0.5375 - dense_15_acc: 0.5419 - dense_16_acc: 0.7217 - dense_17_acc: 0.8098 - dense_18_acc: 0.6764 - dense_19_acc: 0.6675 - val_loss: 13.7172 - val_dense_loss: 0.4249 - val_dense_1_loss: 0.4723 - val_dense_2_loss: 0.6508 - val_dense_3_loss: 0.4690 - val_dense_4_loss: 1.0319 - val_dense_5_loss: 0.2311 - val_dense_6_loss: 0.5740 - val_dense_7_loss: 1.0084 - val_dense_8_loss: 0.6618 - val_dense_9_loss: 0.9206 - val_dense_10_loss: 0.6823 - val_dense_11_loss: 0.6270 - val_dense_12_loss: 0.8557 - val_dense_13_loss: 0.6426 - val_dense_14_loss: 1.0949 - val_dense_15_loss: 0.8203 - val_dense_16_loss: 0.7570 - val_dense_17_loss: 0.4959 - val_dense_18_loss: 0.7269 - val_dense_19_loss: 0.5699 - val_dense_acc: 0.8568 - val_dense_1_acc: 0.8255 - val_dense_2_acc: 0.7714 - val_dense_3_acc: 0.8882 - val_dense_4_acc: 0.5570 - val_dense_5_acc: 0.9389 - val_dense_6_acc: 0.8387 - val_dense_7_acc: 0.5836 - val_dense_8_acc: 0.7590 - val_dense_9_acc: 0.6177 - val_dense_10_acc: 0.7469 - val_dense_11_acc: 0.7806 - val_dense_12_acc: 0.6874 - val_dense_13_acc: 0.7678 - val_dense_14_acc: 0.5341 - val_dense_15_acc: 0.6259 - val_dense_16_acc: 0.7217 - val_dense_17_acc: 0.8236 - val_dense_18_acc: 0.7084 - val_dense_19_acc: 0.7880\n",
      "\n",
      "Epoch 00001: val_loss improved from inf to 13.71723, saving model to ../ckpt/best_model_bigru_cnn.hdf5\n",
      "Epoch 2/30\n",
      "99750/99750 [==============================] - 747s 7ms/step - loss: 12.7957 - dense_loss: 0.4133 - dense_1_loss: 0.4751 - dense_2_loss: 0.6216 - dense_3_loss: 0.4554 - dense_4_loss: 0.8572 - dense_5_loss: 0.1986 - dense_6_loss: 0.4796 - dense_7_loss: 0.9419 - dense_8_loss: 0.5808 - dense_9_loss: 0.8499 - dense_10_loss: 0.6724 - dense_11_loss: 0.5954 - dense_12_loss: 0.8255 - dense_13_loss: 0.6097 - dense_14_loss: 0.9997 - dense_15_loss: 0.7955 - dense_16_loss: 0.7426 - dense_17_loss: 0.4767 - dense_18_loss: 0.6755 - dense_19_loss: 0.5293 - dense_acc: 0.8629 - dense_1_acc: 0.8255 - dense_2_acc: 0.7896 - dense_3_acc: 0.8833 - dense_4_acc: 0.6680 - dense_5_acc: 0.9510 - dense_6_acc: 0.8634 - dense_7_acc: 0.6236 - dense_8_acc: 0.8020 - dense_9_acc: 0.6540 - dense_10_acc: 0.7443 - dense_11_acc: 0.7928 - dense_12_acc: 0.7038 - dense_13_acc: 0.7871 - dense_14_acc: 0.6068 - dense_15_acc: 0.6343 - dense_16_acc: 0.7276 - dense_17_acc: 0.8364 - dense_18_acc: 0.7304 - dense_19_acc: 0.8084 - val_loss: 11.9898 - val_dense_loss: 0.4053 - val_dense_1_loss: 0.4449 - val_dense_2_loss: 0.5767 - val_dense_3_loss: 0.4107 - val_dense_4_loss: 0.7649 - val_dense_5_loss: 0.1894 - val_dense_6_loss: 0.4397 - val_dense_7_loss: 0.9003 - val_dense_8_loss: 0.5540 - val_dense_9_loss: 0.8123 - val_dense_10_loss: 0.6236 - val_dense_11_loss: 0.5949 - val_dense_12_loss: 0.8261 - val_dense_13_loss: 0.5661 - val_dense_14_loss: 0.9100 - val_dense_15_loss: 0.7325 - val_dense_16_loss: 0.7184 - val_dense_17_loss: 0.4390 - val_dense_18_loss: 0.6089 - val_dense_19_loss: 0.4722 - val_dense_acc: 0.8661 - val_dense_1_acc: 0.8389 - val_dense_2_acc: 0.8086 - val_dense_3_acc: 0.8884 - val_dense_4_acc: 0.7183 - val_dense_5_acc: 0.9530 - val_dense_6_acc: 0.8701 - val_dense_7_acc: 0.6478 - val_dense_8_acc: 0.8198 - val_dense_9_acc: 0.6709 - val_dense_10_acc: 0.7590 - val_dense_11_acc: 0.7920 - val_dense_12_acc: 0.7082 - val_dense_13_acc: 0.7962 - val_dense_14_acc: 0.6530 - val_dense_15_acc: 0.6714 - val_dense_16_acc: 0.7396 - val_dense_17_acc: 0.8491 - val_dense_18_acc: 0.7630 - val_dense_19_acc: 0.8284\n",
      "\n",
      "Epoch 00002: val_loss improved from 13.71723 to 11.98983, saving model to ../ckpt/best_model_bigru_cnn.hdf5\n",
      "Epoch 3/30\n",
      "99750/99750 [==============================] - 745s 7ms/step - loss: 11.8585 - dense_loss: 0.3973 - dense_1_loss: 0.4581 - dense_2_loss: 0.5479 - dense_3_loss: 0.4231 - dense_4_loss: 0.7609 - dense_5_loss: 0.1870 - dense_6_loss: 0.4266 - dense_7_loss: 0.8911 - dense_8_loss: 0.5330 - dense_9_loss: 0.8016 - dense_10_loss: 0.6373 - dense_11_loss: 0.5745 - dense_12_loss: 0.7804 - dense_13_loss: 0.5829 - dense_14_loss: 0.9032 - dense_15_loss: 0.7290 - dense_16_loss: 0.6947 - dense_17_loss: 0.4313 - dense_18_loss: 0.6202 - dense_19_loss: 0.4782 - dense_acc: 0.8682 - dense_1_acc: 0.8308 - dense_2_acc: 0.8245 - dense_3_acc: 0.8833 - dense_4_acc: 0.7141 - dense_5_acc: 0.9536 - dense_6_acc: 0.8757 - dense_7_acc: 0.6543 - dense_8_acc: 0.8211 - dense_9_acc: 0.6811 - dense_10_acc: 0.7555 - dense_11_acc: 0.7995 - dense_12_acc: 0.7170 - dense_13_acc: 0.7966 - dense_14_acc: 0.6605 - dense_15_acc: 0.6732 - dense_16_acc: 0.7507 - dense_17_acc: 0.8553 - dense_18_acc: 0.7544 - dense_19_acc: 0.8268 - val_loss: 11.4688 - val_dense_loss: 0.3922 - val_dense_1_loss: 0.4404 - val_dense_2_loss: 0.4985 - val_dense_3_loss: 0.4058 - val_dense_4_loss: 0.7128 - val_dense_5_loss: 0.2000 - val_dense_6_loss: 0.4161 - val_dense_7_loss: 0.8772 - val_dense_8_loss: 0.5262 - val_dense_9_loss: 0.7749 - val_dense_10_loss: 0.6065 - val_dense_11_loss: 0.5801 - val_dense_12_loss: 0.7543 - val_dense_13_loss: 0.5629 - val_dense_14_loss: 0.8781 - val_dense_15_loss: 0.7072 - val_dense_16_loss: 0.6814 - val_dense_17_loss: 0.4157 - val_dense_18_loss: 0.5887 - val_dense_19_loss: 0.4498 - val_dense_acc: 0.8688 - val_dense_1_acc: 0.8396 - val_dense_2_acc: 0.8396 - val_dense_3_acc: 0.8851 - val_dense_4_acc: 0.7362 - val_dense_5_acc: 0.9537 - val_dense_6_acc: 0.8758 - val_dense_7_acc: 0.6684 - val_dense_8_acc: 0.8230 - val_dense_9_acc: 0.6884 - val_dense_10_acc: 0.7693 - val_dense_11_acc: 0.7960 - val_dense_12_acc: 0.7232 - val_dense_13_acc: 0.8000 - val_dense_14_acc: 0.6678 - val_dense_15_acc: 0.6874 - val_dense_16_acc: 0.7604 - val_dense_17_acc: 0.8634 - val_dense_18_acc: 0.7712 - val_dense_19_acc: 0.8339\n",
      "\n",
      "Epoch 00003: val_loss improved from 11.98983 to 11.46877, saving model to ../ckpt/best_model_bigru_cnn.hdf5\n",
      "Epoch 4/30\n",
      "99750/99750 [==============================] - 743s 7ms/step - loss: 11.4330 - dense_loss: 0.3892 - dense_1_loss: 0.4493 - dense_2_loss: 0.5043 - dense_3_loss: 0.4153 - dense_4_loss: 0.7275 - dense_5_loss: 0.1832 - dense_6_loss: 0.4111 - dense_7_loss: 0.8667 - dense_8_loss: 0.5148 - dense_9_loss: 0.7753 - dense_10_loss: 0.6223 - dense_11_loss: 0.5608 - dense_12_loss: 0.7370 - dense_13_loss: 0.5689 - dense_14_loss: 0.8655 - dense_15_loss: 0.6977 - dense_16_loss: 0.6746 - dense_17_loss: 0.4151 - dense_18_loss: 0.5961 - dense_19_loss: 0.4583 - dense_acc: 0.8691 - dense_1_acc: 0.8334 - dense_2_acc: 0.8403 - dense_3_acc: 0.8840 - dense_4_acc: 0.7260 - dense_5_acc: 0.9536 - dense_6_acc: 0.8814 - dense_7_acc: 0.6665 - dense_8_acc: 0.8256 - dense_9_acc: 0.6927 - dense_10_acc: 0.7613 - dense_11_acc: 0.8048 - dense_12_acc: 0.7305 - dense_13_acc: 0.8016 - dense_14_acc: 0.6744 - dense_15_acc: 0.6905 - dense_16_acc: 0.7595 - dense_17_acc: 0.8651 - dense_18_acc: 0.7650 - dense_19_acc: 0.8341 - val_loss: 11.2332 - val_dense_loss: 0.3884 - val_dense_1_loss: 0.4282 - val_dense_2_loss: 0.4810 - val_dense_3_loss: 0.4186 - val_dense_4_loss: 0.6975 - val_dense_5_loss: 0.1818 - val_dense_6_loss: 0.4008 - val_dense_7_loss: 0.8497 - val_dense_8_loss: 0.5201 - val_dense_9_loss: 0.7849 - val_dense_10_loss: 0.5981 - val_dense_11_loss: 0.5691 - val_dense_12_loss: 0.7300 - val_dense_13_loss: 0.5472 - val_dense_14_loss: 0.8327 - val_dense_15_loss: 0.6748 - val_dense_16_loss: 0.6784 - val_dense_17_loss: 0.4103 - val_dense_18_loss: 0.6027 - val_dense_19_loss: 0.4390 - val_dense_acc: 0.8688 - val_dense_1_acc: 0.8465 - val_dense_2_acc: 0.8484 - val_dense_3_acc: 0.8867 - val_dense_4_acc: 0.7432 - val_dense_5_acc: 0.9531 - val_dense_6_acc: 0.8832 - val_dense_7_acc: 0.6762 - val_dense_8_acc: 0.8272 - val_dense_9_acc: 0.6859 - val_dense_10_acc: 0.7642 - val_dense_11_acc: 0.7996 - val_dense_12_acc: 0.7284 - val_dense_13_acc: 0.8046 - val_dense_14_acc: 0.6924 - val_dense_15_acc: 0.7036 - val_dense_16_acc: 0.7592 - val_dense_17_acc: 0.8697 - val_dense_18_acc: 0.7644 - val_dense_19_acc: 0.8402\n"
     ]
    },
    {
     "name": "stdout",
     "output_type": "stream",
     "text": [
      "\n",
      "Epoch 00004: val_loss improved from 11.46877 to 11.23324, saving model to ../ckpt/best_model_bigru_cnn.hdf5\n",
      "Epoch 5/30\n",
      "99750/99750 [==============================] - 748s 8ms/step - loss: 11.1337 - dense_loss: 0.3803 - dense_1_loss: 0.4421 - dense_2_loss: 0.4876 - dense_3_loss: 0.4090 - dense_4_loss: 0.7064 - dense_5_loss: 0.1801 - dense_6_loss: 0.3976 - dense_7_loss: 0.8448 - dense_8_loss: 0.5030 - dense_9_loss: 0.7584 - dense_10_loss: 0.6081 - dense_11_loss: 0.5462 - dense_12_loss: 0.7142 - dense_13_loss: 0.5560 - dense_14_loss: 0.8254 - dense_15_loss: 0.6768 - dense_16_loss: 0.6658 - dense_17_loss: 0.4073 - dense_18_loss: 0.5795 - dense_19_loss: 0.4451 - dense_acc: 0.8706 - dense_1_acc: 0.8363 - dense_2_acc: 0.8443 - dense_3_acc: 0.8843 - dense_4_acc: 0.7366 - dense_5_acc: 0.9546 - dense_6_acc: 0.8859 - dense_7_acc: 0.6777 - dense_8_acc: 0.8302 - dense_9_acc: 0.7002 - dense_10_acc: 0.7663 - dense_11_acc: 0.8097 - dense_12_acc: 0.7380 - dense_13_acc: 0.8048 - dense_14_acc: 0.6916 - dense_15_acc: 0.7007 - dense_16_acc: 0.7616 - dense_17_acc: 0.8678 - dense_18_acc: 0.7720 - dense_19_acc: 0.8400 - val_loss: 11.0922 - val_dense_loss: 0.3814 - val_dense_1_loss: 0.4268 - val_dense_2_loss: 0.4829 - val_dense_3_loss: 0.3888 - val_dense_4_loss: 0.6898 - val_dense_5_loss: 0.1853 - val_dense_6_loss: 0.4000 - val_dense_7_loss: 0.8466 - val_dense_8_loss: 0.5066 - val_dense_9_loss: 0.7547 - val_dense_10_loss: 0.5963 - val_dense_11_loss: 0.5752 - val_dense_12_loss: 0.7315 - val_dense_13_loss: 0.5373 - val_dense_14_loss: 0.8199 - val_dense_15_loss: 0.6565 - val_dense_16_loss: 0.6782 - val_dense_17_loss: 0.4078 - val_dense_18_loss: 0.5842 - val_dense_19_loss: 0.4424 - val_dense_acc: 0.8703 - val_dense_1_acc: 0.8490 - val_dense_2_acc: 0.8404 - val_dense_3_acc: 0.8888 - val_dense_4_acc: 0.7402 - val_dense_5_acc: 0.9528 - val_dense_6_acc: 0.8832 - val_dense_7_acc: 0.6804 - val_dense_8_acc: 0.8227 - val_dense_9_acc: 0.7034 - val_dense_10_acc: 0.7714 - val_dense_11_acc: 0.8002 - val_dense_12_acc: 0.7368 - val_dense_13_acc: 0.8090 - val_dense_14_acc: 0.6966 - val_dense_15_acc: 0.7171 - val_dense_16_acc: 0.7583 - val_dense_17_acc: 0.8686 - val_dense_18_acc: 0.7731 - val_dense_19_acc: 0.8415\n",
      "\n",
      "Epoch 00005: val_loss improved from 11.23324 to 11.09223, saving model to ../ckpt/best_model_bigru_cnn.hdf5\n",
      "Epoch 6/30\n",
      "99750/99750 [==============================] - 738s 7ms/step - loss: 10.9144 - dense_loss: 0.3749 - dense_1_loss: 0.4365 - dense_2_loss: 0.4717 - dense_3_loss: 0.4034 - dense_4_loss: 0.6903 - dense_5_loss: 0.1780 - dense_6_loss: 0.3881 - dense_7_loss: 0.8287 - dense_8_loss: 0.4952 - dense_9_loss: 0.7434 - dense_10_loss: 0.6015 - dense_11_loss: 0.5300 - dense_12_loss: 0.6967 - dense_13_loss: 0.5486 - dense_14_loss: 0.8008 - dense_15_loss: 0.6620 - dense_16_loss: 0.6592 - dense_17_loss: 0.3994 - dense_18_loss: 0.5674 - dense_19_loss: 0.4386 - dense_acc: 0.8722 - dense_1_acc: 0.8371 - dense_2_acc: 0.8488 - dense_3_acc: 0.8862 - dense_4_acc: 0.7404 - dense_5_acc: 0.9551 - dense_6_acc: 0.8886 - dense_7_acc: 0.6844 - dense_8_acc: 0.8319 - dense_9_acc: 0.7062 - dense_10_acc: 0.7699 - dense_11_acc: 0.8159 - dense_12_acc: 0.7439 - dense_13_acc: 0.8068 - dense_14_acc: 0.7022 - dense_15_acc: 0.7098 - dense_16_acc: 0.7631 - dense_17_acc: 0.8693 - dense_18_acc: 0.7777 - dense_19_acc: 0.8410 - val_loss: 10.7531 - val_dense_loss: 0.3831 - val_dense_1_loss: 0.4281 - val_dense_2_loss: 0.4580 - val_dense_3_loss: 0.3827 - val_dense_4_loss: 0.6679 - val_dense_5_loss: 0.1819 - val_dense_6_loss: 0.3894 - val_dense_7_loss: 0.8304 - val_dense_8_loss: 0.4990 - val_dense_9_loss: 0.7235 - val_dense_10_loss: 0.5737 - val_dense_11_loss: 0.5420 - val_dense_12_loss: 0.6950 - val_dense_13_loss: 0.5321 - val_dense_14_loss: 0.7805 - val_dense_15_loss: 0.6582 - val_dense_16_loss: 0.6628 - val_dense_17_loss: 0.3890 - val_dense_18_loss: 0.5467 - val_dense_19_loss: 0.4291 - val_dense_acc: 0.8701 - val_dense_1_acc: 0.8429 - val_dense_2_acc: 0.8482 - val_dense_3_acc: 0.8895 - val_dense_4_acc: 0.7541 - val_dense_5_acc: 0.9549 - val_dense_6_acc: 0.8838 - val_dense_7_acc: 0.6857 - val_dense_8_acc: 0.8333 - val_dense_9_acc: 0.7175 - val_dense_10_acc: 0.7720 - val_dense_11_acc: 0.8091 - val_dense_12_acc: 0.7444 - val_dense_13_acc: 0.8070 - val_dense_14_acc: 0.7105 - val_dense_15_acc: 0.7078 - val_dense_16_acc: 0.7600 - val_dense_17_acc: 0.8764 - val_dense_18_acc: 0.7884 - val_dense_19_acc: 0.8459\n",
      "\n",
      "Epoch 00006: val_loss improved from 11.09223 to 10.75307, saving model to ../ckpt/best_model_bigru_cnn.hdf5\n",
      "Epoch 7/30\n",
      "99750/99750 [==============================] - 768s 8ms/step - loss: 10.7379 - dense_loss: 0.3696 - dense_1_loss: 0.4342 - dense_2_loss: 0.4610 - dense_3_loss: 0.3979 - dense_4_loss: 0.6771 - dense_5_loss: 0.1772 - dense_6_loss: 0.3812 - dense_7_loss: 0.8132 - dense_8_loss: 0.4895 - dense_9_loss: 0.7306 - dense_10_loss: 0.5919 - dense_11_loss: 0.5207 - dense_12_loss: 0.6795 - dense_13_loss: 0.5398 - dense_14_loss: 0.7860 - dense_15_loss: 0.6525 - dense_16_loss: 0.6552 - dense_17_loss: 0.3936 - dense_18_loss: 0.5585 - dense_19_loss: 0.4290 - dense_acc: 0.8742 - dense_1_acc: 0.8378 - dense_2_acc: 0.8526 - dense_3_acc: 0.8861 - dense_4_acc: 0.7450 - dense_5_acc: 0.9551 - dense_6_acc: 0.8900 - dense_7_acc: 0.6921 - dense_8_acc: 0.8331 - dense_9_acc: 0.7117 - dense_10_acc: 0.7746 - dense_11_acc: 0.8188 - dense_12_acc: 0.7500 - dense_13_acc: 0.8093 - dense_14_acc: 0.7080 - dense_15_acc: 0.7151 - dense_16_acc: 0.7644 - dense_17_acc: 0.8725 - dense_18_acc: 0.7825 - dense_19_acc: 0.8446 - val_loss: 10.6679 - val_dense_loss: 0.3736 - val_dense_1_loss: 0.4201 - val_dense_2_loss: 0.4458 - val_dense_3_loss: 0.3816 - val_dense_4_loss: 0.6539 - val_dense_5_loss: 0.1788 - val_dense_6_loss: 0.3913 - val_dense_7_loss: 0.8117 - val_dense_8_loss: 0.4920 - val_dense_9_loss: 0.7168 - val_dense_10_loss: 0.5711 - val_dense_11_loss: 0.5322 - val_dense_12_loss: 0.6881 - val_dense_13_loss: 0.5331 - val_dense_14_loss: 0.7764 - val_dense_15_loss: 0.6569 - val_dense_16_loss: 0.6658 - val_dense_17_loss: 0.3869 - val_dense_18_loss: 0.5643 - val_dense_19_loss: 0.4276 - val_dense_acc: 0.8699 - val_dense_1_acc: 0.8476 - val_dense_2_acc: 0.8589 - val_dense_3_acc: 0.8903 - val_dense_4_acc: 0.7545 - val_dense_5_acc: 0.9537 - val_dense_6_acc: 0.8865 - val_dense_7_acc: 0.6899 - val_dense_8_acc: 0.8330 - val_dense_9_acc: 0.7135 - val_dense_10_acc: 0.7792 - val_dense_11_acc: 0.8130 - val_dense_12_acc: 0.7537 - val_dense_13_acc: 0.8124 - val_dense_14_acc: 0.7175 - val_dense_15_acc: 0.7170 - val_dense_16_acc: 0.7600 - val_dense_17_acc: 0.8726 - val_dense_18_acc: 0.7798 - val_dense_19_acc: 0.8453\n",
      "\n",
      "Epoch 00007: val_loss improved from 10.75307 to 10.66794, saving model to ../ckpt/best_model_bigru_cnn.hdf5\n",
      "Epoch 8/30\n",
      "99750/99750 [==============================] - 753s 8ms/step - loss: 10.5852 - dense_loss: 0.3651 - dense_1_loss: 0.4305 - dense_2_loss: 0.4523 - dense_3_loss: 0.3925 - dense_4_loss: 0.6677 - dense_5_loss: 0.1749 - dense_6_loss: 0.3745 - dense_7_loss: 0.8018 - dense_8_loss: 0.4847 - dense_9_loss: 0.7197 - dense_10_loss: 0.5847 - dense_11_loss: 0.5131 - dense_12_loss: 0.6631 - dense_13_loss: 0.5332 - dense_14_loss: 0.7748 - dense_15_loss: 0.6393 - dense_16_loss: 0.6494 - dense_17_loss: 0.3880 - dense_18_loss: 0.5503 - dense_19_loss: 0.4256 - dense_acc: 0.8752 - dense_1_acc: 0.8383 - dense_2_acc: 0.8541 - dense_3_acc: 0.8874 - dense_4_acc: 0.7506 - dense_5_acc: 0.9559 - dense_6_acc: 0.8908 - dense_7_acc: 0.6964 - dense_8_acc: 0.8337 - dense_9_acc: 0.7170 - dense_10_acc: 0.7749 - dense_11_acc: 0.8215 - dense_12_acc: 0.7574 - dense_13_acc: 0.8108 - dense_14_acc: 0.7122 - dense_15_acc: 0.7209 - dense_16_acc: 0.7661 - dense_17_acc: 0.8743 - dense_18_acc: 0.7853 - dense_19_acc: 0.8448 - val_loss: 10.5607 - val_dense_loss: 0.3952 - val_dense_1_loss: 0.4345 - val_dense_2_loss: 0.4306 - val_dense_3_loss: 0.3747 - val_dense_4_loss: 0.6432 - val_dense_5_loss: 0.1787 - val_dense_6_loss: 0.3950 - val_dense_7_loss: 0.7882 - val_dense_8_loss: 0.4930 - val_dense_9_loss: 0.7251 - val_dense_10_loss: 0.5694 - val_dense_11_loss: 0.5276 - val_dense_12_loss: 0.6631 - val_dense_13_loss: 0.5209 - val_dense_14_loss: 0.7658 - val_dense_15_loss: 0.6344 - val_dense_16_loss: 0.6654 - val_dense_17_loss: 0.3948 - val_dense_18_loss: 0.5444 - val_dense_19_loss: 0.4168 - val_dense_acc: 0.8604 - val_dense_1_acc: 0.8390 - val_dense_2_acc: 0.8619 - val_dense_3_acc: 0.8893 - val_dense_4_acc: 0.7552 - val_dense_5_acc: 0.9560 - val_dense_6_acc: 0.8813 - val_dense_7_acc: 0.7025 - val_dense_8_acc: 0.8339 - val_dense_9_acc: 0.7162 - val_dense_10_acc: 0.7825 - val_dense_11_acc: 0.8124 - val_dense_12_acc: 0.7623 - val_dense_13_acc: 0.8118 - val_dense_14_acc: 0.7187 - val_dense_15_acc: 0.7280 - val_dense_16_acc: 0.7577 - val_dense_17_acc: 0.8691 - val_dense_18_acc: 0.7897 - val_dense_19_acc: 0.8480\n"
     ]
    },
    {
     "name": "stdout",
     "output_type": "stream",
     "text": [
      "\n",
      "Epoch 00008: val_loss improved from 10.66794 to 10.56068, saving model to ../ckpt/best_model_bigru_cnn.hdf5\n",
      "Epoch 9/30\n",
      "99750/99750 [==============================] - 775s 8ms/step - loss: 10.4669 - dense_loss: 0.3617 - dense_1_loss: 0.4280 - dense_2_loss: 0.4453 - dense_3_loss: 0.3880 - dense_4_loss: 0.6573 - dense_5_loss: 0.1738 - dense_6_loss: 0.3717 - dense_7_loss: 0.7904 - dense_8_loss: 0.4801 - dense_9_loss: 0.7105 - dense_10_loss: 0.5795 - dense_11_loss: 0.5070 - dense_12_loss: 0.6538 - dense_13_loss: 0.5266 - dense_14_loss: 0.7683 - dense_15_loss: 0.6319 - dense_16_loss: 0.6443 - dense_17_loss: 0.3861 - dense_18_loss: 0.5428 - dense_19_loss: 0.4196 - dense_acc: 0.8757 - dense_1_acc: 0.8390 - dense_2_acc: 0.8568 - dense_3_acc: 0.8883 - dense_4_acc: 0.7535 - dense_5_acc: 0.9566 - dense_6_acc: 0.8922 - dense_7_acc: 0.7015 - dense_8_acc: 0.8348 - dense_9_acc: 0.7213 - dense_10_acc: 0.7776 - dense_11_acc: 0.8225 - dense_12_acc: 0.7611 - dense_13_acc: 0.8126 - dense_14_acc: 0.7143 - dense_15_acc: 0.7256 - dense_16_acc: 0.7676 - dense_17_acc: 0.8758 - dense_18_acc: 0.7887 - dense_19_acc: 0.8478 - val_loss: 10.4789 - val_dense_loss: 0.3772 - val_dense_1_loss: 0.4186 - val_dense_2_loss: 0.4394 - val_dense_3_loss: 0.3688 - val_dense_4_loss: 0.6594 - val_dense_5_loss: 0.1766 - val_dense_6_loss: 0.3716 - val_dense_7_loss: 0.7956 - val_dense_8_loss: 0.4869 - val_dense_9_loss: 0.6961 - val_dense_10_loss: 0.5763 - val_dense_11_loss: 0.5257 - val_dense_12_loss: 0.6681 - val_dense_13_loss: 0.5236 - val_dense_14_loss: 0.7577 - val_dense_15_loss: 0.6309 - val_dense_16_loss: 0.6541 - val_dense_17_loss: 0.3778 - val_dense_18_loss: 0.5411 - val_dense_19_loss: 0.4333 - val_dense_acc: 0.8684 - val_dense_1_acc: 0.8474 - val_dense_2_acc: 0.8583 - val_dense_3_acc: 0.8920 - val_dense_4_acc: 0.7524 - val_dense_5_acc: 0.9558 - val_dense_6_acc: 0.8882 - val_dense_7_acc: 0.7061 - val_dense_8_acc: 0.8356 - val_dense_9_acc: 0.7265 - val_dense_10_acc: 0.7808 - val_dense_11_acc: 0.8147 - val_dense_12_acc: 0.7604 - val_dense_13_acc: 0.8135 - val_dense_14_acc: 0.7206 - val_dense_15_acc: 0.7278 - val_dense_16_acc: 0.7651 - val_dense_17_acc: 0.8779 - val_dense_18_acc: 0.7928 - val_dense_19_acc: 0.8404\n",
      "\n",
      "Epoch 00009: val_loss improved from 10.56068 to 10.47887, saving model to ../ckpt/best_model_bigru_cnn.hdf5\n",
      "Epoch 10/30\n",
      "99750/99750 [==============================] - 767s 8ms/step - loss: 10.3579 - dense_loss: 0.3584 - dense_1_loss: 0.4245 - dense_2_loss: 0.4420 - dense_3_loss: 0.3838 - dense_4_loss: 0.6484 - dense_5_loss: 0.1718 - dense_6_loss: 0.3659 - dense_7_loss: 0.7817 - dense_8_loss: 0.4769 - dense_9_loss: 0.7036 - dense_10_loss: 0.5746 - dense_11_loss: 0.5019 - dense_12_loss: 0.6442 - dense_13_loss: 0.5207 - dense_14_loss: 0.7598 - dense_15_loss: 0.6242 - dense_16_loss: 0.6406 - dense_17_loss: 0.3802 - dense_18_loss: 0.5390 - dense_19_loss: 0.4157 - dense_acc: 0.8770 - dense_1_acc: 0.8394 - dense_2_acc: 0.8576 - dense_3_acc: 0.8887 - dense_4_acc: 0.7556 - dense_5_acc: 0.9572 - dense_6_acc: 0.8930 - dense_7_acc: 0.7053 - dense_8_acc: 0.8360 - dense_9_acc: 0.7243 - dense_10_acc: 0.7794 - dense_11_acc: 0.8238 - dense_12_acc: 0.7642 - dense_13_acc: 0.8150 - dense_14_acc: 0.7183 - dense_15_acc: 0.7296 - dense_16_acc: 0.7680 - dense_17_acc: 0.8771 - dense_18_acc: 0.7907 - dense_19_acc: 0.8492 - val_loss: 10.5421 - val_dense_loss: 0.3827 - val_dense_1_loss: 0.4222 - val_dense_2_loss: 0.4462 - val_dense_3_loss: 0.4117 - val_dense_4_loss: 0.6644 - val_dense_5_loss: 0.1747 - val_dense_6_loss: 0.3623 - val_dense_7_loss: 0.7961 - val_dense_8_loss: 0.4964 - val_dense_9_loss: 0.6952 - val_dense_10_loss: 0.5603 - val_dense_11_loss: 0.5351 - val_dense_12_loss: 0.6724 - val_dense_13_loss: 0.5180 - val_dense_14_loss: 0.7514 - val_dense_15_loss: 0.6396 - val_dense_16_loss: 0.6512 - val_dense_17_loss: 0.3706 - val_dense_18_loss: 0.5661 - val_dense_19_loss: 0.4253 - val_dense_acc: 0.8617 - val_dense_1_acc: 0.8463 - val_dense_2_acc: 0.8474 - val_dense_3_acc: 0.8874 - val_dense_4_acc: 0.7438 - val_dense_5_acc: 0.9558 - val_dense_6_acc: 0.8903 - val_dense_7_acc: 0.7110 - val_dense_8_acc: 0.8274 - val_dense_9_acc: 0.7236 - val_dense_10_acc: 0.7844 - val_dense_11_acc: 0.8133 - val_dense_12_acc: 0.7640 - val_dense_13_acc: 0.8175 - val_dense_14_acc: 0.7232 - val_dense_15_acc: 0.7248 - val_dense_16_acc: 0.7629 - val_dense_17_acc: 0.8777 - val_dense_18_acc: 0.7789 - val_dense_19_acc: 0.8461\n",
      "\n",
      "Epoch 00010: val_loss did not improve from 10.47887\n",
      "Epoch 11/30\n",
      "99750/99750 [==============================] - 767s 8ms/step - loss: 10.2710 - dense_loss: 0.3559 - dense_1_loss: 0.4243 - dense_2_loss: 0.4376 - dense_3_loss: 0.3783 - dense_4_loss: 0.6439 - dense_5_loss: 0.1715 - dense_6_loss: 0.3633 - dense_7_loss: 0.7762 - dense_8_loss: 0.4748 - dense_9_loss: 0.6986 - dense_10_loss: 0.5686 - dense_11_loss: 0.4949 - dense_12_loss: 0.6375 - dense_13_loss: 0.5160 - dense_14_loss: 0.7526 - dense_15_loss: 0.6153 - dense_16_loss: 0.6374 - dense_17_loss: 0.3785 - dense_18_loss: 0.5353 - dense_19_loss: 0.4105 - dense_acc: 0.8765 - dense_1_acc: 0.8395 - dense_2_acc: 0.8576 - dense_3_acc: 0.8900 - dense_4_acc: 0.7578 - dense_5_acc: 0.9572 - dense_6_acc: 0.8935 - dense_7_acc: 0.7067 - dense_8_acc: 0.8373 - dense_9_acc: 0.7272 - dense_10_acc: 0.7824 - dense_11_acc: 0.8257 - dense_12_acc: 0.7667 - dense_13_acc: 0.8164 - dense_14_acc: 0.7193 - dense_15_acc: 0.7338 - dense_16_acc: 0.7689 - dense_17_acc: 0.8780 - dense_18_acc: 0.7931 - dense_19_acc: 0.8510 - val_loss: 10.3403 - val_dense_loss: 0.3696 - val_dense_1_loss: 0.4405 - val_dense_2_loss: 0.4216 - val_dense_3_loss: 0.3745 - val_dense_4_loss: 0.6367 - val_dense_5_loss: 0.1747 - val_dense_6_loss: 0.3743 - val_dense_7_loss: 0.7747 - val_dense_8_loss: 0.4878 - val_dense_9_loss: 0.7035 - val_dense_10_loss: 0.5627 - val_dense_11_loss: 0.5177 - val_dense_12_loss: 0.6599 - val_dense_13_loss: 0.5087 - val_dense_14_loss: 0.7430 - val_dense_15_loss: 0.6276 - val_dense_16_loss: 0.6449 - val_dense_17_loss: 0.3685 - val_dense_18_loss: 0.5330 - val_dense_19_loss: 0.4164 - val_dense_acc: 0.8750 - val_dense_1_acc: 0.8438 - val_dense_2_acc: 0.8651 - val_dense_3_acc: 0.8950 - val_dense_4_acc: 0.7583 - val_dense_5_acc: 0.9550 - val_dense_6_acc: 0.8895 - val_dense_7_acc: 0.7124 - val_dense_8_acc: 0.8301 - val_dense_9_acc: 0.7204 - val_dense_10_acc: 0.7840 - val_dense_11_acc: 0.8156 - val_dense_12_acc: 0.7615 - val_dense_13_acc: 0.8166 - val_dense_14_acc: 0.7274 - val_dense_15_acc: 0.7337 - val_dense_16_acc: 0.7619 - val_dense_17_acc: 0.8800 - val_dense_18_acc: 0.7912 - val_dense_19_acc: 0.8493\n",
      "\n",
      "Epoch 00011: val_loss improved from 10.47887 to 10.34028, saving model to ../ckpt/best_model_bigru_cnn.hdf5\n",
      "Epoch 12/30\n",
      " 3456/99750 [>.............................] - ETA: 12:08 - loss: 10.1762 - dense_loss: 0.3454 - dense_1_loss: 0.4185 - dense_2_loss: 0.4251 - dense_3_loss: 0.3871 - dense_4_loss: 0.6442 - dense_5_loss: 0.1610 - dense_6_loss: 0.3493 - dense_7_loss: 0.7649 - dense_8_loss: 0.4791 - dense_9_loss: 0.6942 - dense_10_loss: 0.5635 - dense_11_loss: 0.4894 - dense_12_loss: 0.6346 - dense_13_loss: 0.5214 - dense_14_loss: 0.7361 - dense_15_loss: 0.6084 - dense_16_loss: 0.6374 - dense_17_loss: 0.3758 - dense_18_loss: 0.5258 - dense_19_loss: 0.4151 - dense_acc: 0.8819 - dense_1_acc: 0.8452 - dense_2_acc: 0.8657 - dense_3_acc: 0.8860 - dense_4_acc: 0.7572 - dense_5_acc: 0.9630 - dense_6_acc: 0.8927 - dense_7_acc: 0.7092 - dense_8_acc: 0.8287 - dense_9_acc: 0.7260 - dense_10_acc: 0.7853 - dense_11_acc: 0.8273 - dense_12_acc: 0.7630 - dense_13_acc: 0.8108 - dense_14_acc: 0.7216 - dense_15_acc: 0.7329 - dense_16_acc: 0.7679 - dense_17_acc: 0.8779 - dense_18_acc: 0.7983 - dense_19_acc: 0.8472"
     ]
    }
   ],
   "source": [
    "model = build_model(lr = 1e-3, lr_d = 0, units = 128, dr = 0.2)"
   ]
  },
  {
   "cell_type": "code",
   "execution_count": null,
   "metadata": {},
   "outputs": [],
   "source": []
  }
 ],
 "metadata": {
  "kernelspec": {
   "display_name": "Python 3",
   "language": "python",
   "name": "python3"
  },
  "language_info": {
   "codemirror_mode": {
    "name": "ipython",
    "version": 3
   },
   "file_extension": ".py",
   "mimetype": "text/x-python",
   "name": "python",
   "nbconvert_exporter": "python",
   "pygments_lexer": "ipython3",
   "version": "3.6.5"
  }
 },
 "nbformat": 4,
 "nbformat_minor": 2
}
