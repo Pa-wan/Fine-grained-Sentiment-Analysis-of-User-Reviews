{
 "cells": [
  {
   "cell_type": "code",
   "execution_count": 1,
   "metadata": {},
   "outputs": [],
   "source": [
    "from sklearn.svm import SVC\n",
    "from sklearn.naive_bayes import MultinomialNB\n",
    "from sklearn.metrics import f1_score\n",
    "import logging\n",
    "\n",
    "logging.basicConfig(level=logging.INFO, format='%(asctime)s [%(levelname)s] <%(processName)s> (%(threadName)s) %(message)s')\n",
    "logger = logging.getLogger(__name__)\n",
    "\n",
    "\n",
    "class TextClassifier():\n",
    "\n",
    "    def __init__(self, vectorizer, classifier=MultinomialNB()):\n",
    "        classifier = SVC(kernel=\"rbf\")\n",
    "        # classifier = SVC(kernel=\"linear\")\n",
    "        self.classifier = classifier\n",
    "        self.vectorizer = vectorizer\n",
    "\n",
    "    def features(self, x):\n",
    "        return self.vectorizer.transform(x)\n",
    "\n",
    "    def fit(self, x, y):\n",
    "\n",
    "        self.classifier.fit(self.features(x), y)\n",
    "\n",
    "    def predict(self, x):\n",
    "\n",
    "        return self.classifier.predict(self.features(x))\n",
    "\n",
    "    def score(self, x, y):\n",
    "        return self.classifier.score(self.features(x), y)\n",
    "\n",
    "    def get_f1_score(self, x, y):\n",
    "        return f1_score(y, self.predict(x), average='macro')"
   ]
  },
  {
   "cell_type": "code",
   "execution_count": 4,
   "metadata": {},
   "outputs": [],
   "source": [
    "from sklearn.feature_extraction.text import TfidfVectorizer\n",
    "import numpy as np\n",
    "from sklearn.externals import joblib\n",
    "import os\n",
    "import argparse\n",
    "\n",
    "max_features = 200000\n",
    "maxlen = 1000\n",
    "embed_size = 300\n",
    "EMBEDDING_FILE = \"../inputs/wiki.zh.vec\"\n",
    "data_npz = \"../inputs/data.npz\"\n",
    "features_npz = \"../inputs/features.npz\"\n",
    "embed_npz = \"../inputs/embedding.npz\""
   ]
  },
  {
   "cell_type": "code",
   "execution_count": 5,
   "metadata": {},
   "outputs": [
    {
     "name": "stderr",
     "output_type": "stream",
     "text": [
      "2018-09-17 15:00:41,989 [INFO] <MainProcess> (MainThread) start load data\n"
     ]
    }
   ],
   "source": [
    "import pandas as pd\n",
    "model_name = \"baseline_model_dict.pkl\"\n",
    "\n",
    "# load train data\n",
    "logger.info(\"start load data\")\n",
    "train_data_df = pd.read_csv(\"../inputs/train.csv\")\n",
    "validate_data_df = pd.read_csv(\"../inputs/vali.csv\")"
   ]
  },
  {
   "cell_type": "code",
   "execution_count": 6,
   "metadata": {},
   "outputs": [
    {
     "name": "stderr",
     "output_type": "stream",
     "text": [
      "2018-09-17 15:01:19,113 [INFO] <MainProcess> (MainThread) start train feature extraction\n",
      "2018-09-17 15:03:07,130 [INFO] <MainProcess> (MainThread) complete train feature extraction models\n"
     ]
    }
   ],
   "source": [
    "content_train = train_data_df.iloc[:, 1]\n",
    "columns = train_data_df.columns.values.tolist()\n",
    "logger.info(\"start train feature extraction\")\n",
    "vectorizer_tfidf = TfidfVectorizer(analyzer='word', ngram_range=(1, 3), min_df=3, norm='l2',max_df=0.9,  use_idf=1,smooth_idf=1, sublinear_tf=1 )\n",
    "vectorizer_tfidf.fit(content_train)\n",
    "logger.info(\"complete train feature extraction models\")"
   ]
  },
  {
   "cell_type": "code",
   "execution_count": null,
   "metadata": {},
   "outputs": [
    {
     "name": "stderr",
     "output_type": "stream",
     "text": [
      "2018-09-17 15:03:24,450 [INFO] <MainProcess> (MainThread) start train model\n",
      "2018-09-17 15:03:24,451 [INFO] <MainProcess> (MainThread) start train location_traffic_convenience model\n",
      "2018-09-17 17:55:18,697 [INFO] <MainProcess> (MainThread) complete train location_traffic_convenience model\n",
      "2018-09-17 17:55:18,697 [INFO] <MainProcess> (MainThread) start train location_distance_from_business_district model\n",
      "2018-09-17 21:16:31,408 [INFO] <MainProcess> (MainThread) complete train location_distance_from_business_district model\n",
      "2018-09-17 21:16:31,409 [INFO] <MainProcess> (MainThread) start train location_easy_to_find model\n",
      "2018-09-18 00:52:47,826 [INFO] <MainProcess> (MainThread) complete train location_easy_to_find model\n",
      "2018-09-18 00:52:47,827 [INFO] <MainProcess> (MainThread) start train service_wait_time model\n",
      "2018-09-18 02:15:55,640 [INFO] <MainProcess> (MainThread) complete train service_wait_time model\n",
      "2018-09-18 02:15:55,641 [INFO] <MainProcess> (MainThread) start train service_waiters_attitude model\n",
      "2018-09-18 09:01:11,558 [INFO] <MainProcess> (MainThread) complete train service_waiters_attitude model\n",
      "2018-09-18 09:01:11,558 [INFO] <MainProcess> (MainThread) start train service_parking_convenience model\n",
      "2018-09-18 09:39:21,222 [INFO] <MainProcess> (MainThread) complete train service_parking_convenience model\n",
      "2018-09-18 09:39:21,223 [INFO] <MainProcess> (MainThread) start train service_serving_speed model\n",
      "2018-09-18 11:07:58,552 [INFO] <MainProcess> (MainThread) complete train service_serving_speed model\n",
      "2018-09-18 11:07:58,553 [INFO] <MainProcess> (MainThread) start train price_level model\n"
     ]
    }
   ],
   "source": [
    "# model train\n",
    "logger.info(\"start train model\")\n",
    "classifier_dict = dict()\n",
    "for column in columns[2:]:\n",
    "    label_train = train_data_df[column]\n",
    "    text_classifier = TextClassifier(vectorizer=vectorizer_tfidf)\n",
    "    logger.info(\"start train %s model\" % column)\n",
    "    text_classifier.fit(content_train, label_train)\n",
    "    logger.info(\"complete train %s model\" % column)\n",
    "    classifier_dict[column] = text_classifier\n",
    "\n",
    "logger.info(\"complete train model\")"
   ]
  },
  {
   "cell_type": "code",
   "execution_count": null,
   "metadata": {},
   "outputs": [],
   "source": [
    "# validate model\n",
    "content_validate = validate_data_df.iloc[:, 1]\n",
    "\n",
    "logger.info(\"start seg validate data\")\n",
    "content_validate = seg_words(content_validate)\n",
    "logger.info(\"complete seg validate data\")\n",
    "\n",
    "logger.info(\"start validate model\")\n",
    "f1_score_dict = dict()\n",
    "for column in columns[2:]:\n",
    "    label_validate = validate_data_df[column]\n",
    "    text_classifier = classifier_dict[column]\n",
    "    f1_score = text_classifier.get_f1_score(content_validate, label_validate)\n",
    "    f1_score_dict[column] = f1_score\n",
    "\n",
    "f1_score = np.mean(list(f1_score_dict.values()))\n",
    "str_score = \"\\n\"\n",
    "for column in columns[2:]:\n",
    "    str_score = str_score + column + \":\" + str(f1_score_dict[column]) + \"\\n\"\n",
    "\n",
    "logger.info(\"f1_scores: %s\\n\" % str_score)\n",
    "logger.info(\"f1_score: %s\" % f1_score)\n",
    "logger.info(\"complete validate model\")\n",
    "\n",
    "# save model\n",
    "logger.info(\"start save model\")\n",
    "model_save_path = model_save_path\n",
    "if not os.path.exists(model_save_path):\n",
    "    os.makedirs(model_save_path)\n",
    "\n",
    "joblib.dump(classifier_dict, model_save_path + model_name)\n",
    "logger.info(\"complete save model\")"
   ]
  },
  {
   "cell_type": "code",
   "execution_count": null,
   "metadata": {},
   "outputs": [],
   "source": []
  }
 ],
 "metadata": {
  "kernelspec": {
   "display_name": "Python 3",
   "language": "python",
   "name": "python3"
  },
  "language_info": {
   "codemirror_mode": {
    "name": "ipython",
    "version": 3
   },
   "file_extension": ".py",
   "mimetype": "text/x-python",
   "name": "python",
   "nbconvert_exporter": "python",
   "pygments_lexer": "ipython3",
   "version": "3.6.5"
  }
 },
 "nbformat": 4,
 "nbformat_minor": 2
}
